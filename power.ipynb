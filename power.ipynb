{
 "cells": [
  {
   "cell_type": "markdown",
   "metadata": {},
   "source": [
    "### Install packages"
   ]
  },
  {
   "cell_type": "code",
   "execution_count": null,
   "metadata": {},
   "outputs": [],
   "source": [
    "try: # Install microgrids package in JupyterLite (if run in JupyterLite)\n",
    "    import piplite\n",
    "    await piplite.install([ 'ipywidgets', ])\n",
    "except ImportError:\n",
    "    pass"
   ]
  },
  {
   "cell_type": "markdown",
   "metadata": {},
   "source": [
    "### Import packages"
   ]
  },
  {
   "cell_type": "code",
   "execution_count": null,
   "metadata": {},
   "outputs": [],
   "source": [
    "import matplotlib.pyplot as plt\n",
    "import numpy as np\n",
    "import ipywidgets as widgets\n",
    "from IPython.display import display\n",
    "from ipywidgets import VBox, interactive_output, Output"
   ]
  },
  {
   "cell_type": "markdown",
   "metadata": {},
   "source": [
    "### Define fixed variables"
   ]
  },
  {
   "cell_type": "code",
   "execution_count": null,
   "metadata": {},
   "outputs": [],
   "source": [
    "# Constants\n",
    "distance = 30.8  # Route Kilometer\n",
    "trainWeight = 200  # Weight of Train in Tons\n",
    "depots = 1 # number of additional depots or percentage of depot to consider\n",
    "depotTrainPower = 1 # Power used by Trains in Depot\n",
    "elevatedStations = 16 # number of elevated stations\n",
    "atGradeStations = 4 # number of stations at grade\n",
    "ugStations = 3 # number of underground stations\n",
    "tractionPF = 0.95 # Traction Power Factor\n",
    "tractionLosses = 5 # Traction Power losses in percentage\n",
    "auxiliaryPF = 0.95 # Auxillary Power Factor\n",
    "auxiliaryLosses = 5 # Auxillary Power losses in percentage\n",
    "dailyHours = 20 # Daily Operational Hours\n",
    "diversityFactor = 0.5 # Diversity Factor for auxiliary power"
   ]
  },
  {
   "cell_type": "markdown",
   "metadata": {},
   "source": [
    "### Function for calculating output based on passed parameteric values"
   ]
  },
  {
   "cell_type": "code",
   "execution_count": null,
   "metadata": {},
   "outputs": [],
   "source": [
    "def calculate_metrics(sec, regeneration, headway):\n",
    "    \"\"\"\n",
    "    Calculate required power wattage, units, and maximum demand.\n",
    "    \"\"\"\n",
    "    # Traction Power Requirement using SEC KW/1000 km for finding traction power\n",
    "    trainPerHour = 60 / headway * 2 # Trains per hour in both direction\n",
    "    peakTractionPower = distance * trainWeight * sec * trainPerHour / 1000 /1000 # Power in MW\n",
    "    regTractionPower = peakTractionPower * (1 - regeneration/100) + depotTrainPower # Account Regeneration\n",
    "    netTractionPower = regTractionPower / (1 - tractionLosses / 100) / tractionPF # include losses in MVA\n",
    "\n",
    "    # Auxiliary Power requirements of Station and Depot buildings\n",
    "    stationLoad = (elevatedStations + atGradeStations) * 300 + ugStations * 2500 # Auxiliary power for stations\n",
    "    depotLoad = depots * 500 # Auxiliary power for Depot\n",
    "    totalAuxiliaryPower = (stationLoad + depotLoad) / 1000 # Total of station and Depot in MW\n",
    "    netAuxiliaryPower = (totalAuxiliaryPower / (1 - auxiliaryLosses / 100) / auxiliaryPF) # include losses in MVA\n",
    "    \n",
    "    watt = netTractionPower + netAuxiliaryPower\n",
    "\n",
    "    tractionUnits = netTractionPower * dailyHours * 365 / 1000 # Yearly units consumption for Traction\n",
    "    auxiliaryUnits = netAuxiliaryPower * diversityFactor * dailyHours * 365 / 1000 # Yearly units consumption for Auxiliary\n",
    "\n",
    "    unit = tractionUnits + auxiliaryUnits\n",
    "    \n",
    "    #print(f'Traction: {netTractionPower:.2f} MW, Auxiliary: {netAuxiliaryPower:.2f} MW')\n",
    "    #print(f'Traction: {tractionUnits:.2f} Mil, Auxiliary: {auxiliaryUnits:.2f} Mil')\n",
    "    \n",
    "    demand = (netTractionPower / 0.95 + netAuxiliaryPower / 0.95) / 0.95 # Assume 5% transimission losses\n",
    "    \n",
    "    return watt, unit, demand\n"
   ]
  },
  {
   "cell_type": "markdown",
   "metadata": {},
   "source": [
    "### Plot the output"
   ]
  },
  {
   "cell_type": "code",
   "execution_count": null,
   "metadata": {},
   "outputs": [],
   "source": [
    "\n",
    "def plot_metrics(sec, regeneration, headway):\n",
    "    \"\"\"\n",
    "    Generate the plot for the number Power Consumption.\n",
    "    \"\"\"\n",
    "    watt, unit, demand = calculate_metrics(sec, regeneration, headway)\n",
    "\n",
    "    print(f'Total Power: {watt:.2f} MW, Units: {unit:.2f} Million, Maxm Demand: {int(demand)}')\n",
    "\n",
    "    fig, ax = plt.subplots(figsize=(7, 5))  # Set figure size\n",
    "    metrics = ['Total Power Required', 'Units Consumed', 'Maximum Demand']\n",
    "    values = [watt, unit, demand]\n",
    "    \n",
    "    ax.bar(metrics, values, width=0.5)\n",
    "    ax.set_title('Power Consumption Metrics')\n",
    "    #ax.set_ylim(0, 55)\n",
    "    ax.set_ylabel('Values')\n",
    "\n",
    "    for i, v in enumerate(values):\n",
    "        ax.text(i, v + 1, f\"{v:.2f}\", ha='center', va='bottom')\n",
    "\n",
    "    return fig\n",
    "\n"
   ]
  },
  {
   "cell_type": "markdown",
   "metadata": {},
   "source": [
    "### Update the paramateric value interactively to observe senstivity"
   ]
  },
  {
   "cell_type": "code",
   "execution_count": null,
   "metadata": {},
   "outputs": [],
   "source": [
    "def update(sec, regeneration, headway):\n",
    "    \"\"\"\n",
    "    Update the output plot based on the slider values.\n",
    "    \"\"\"\n",
    "    out1.clear_output(wait=True)\n",
    "    with out1:\n",
    "        fig1 = plot_metrics(sec, regeneration, headway)\n",
    "        plt.show(fig1)\n",
    "\n"
   ]
  },
  {
   "cell_type": "markdown",
   "metadata": {},
   "source": [
    "### Widget and others"
   ]
  },
  {
   "cell_type": "code",
   "execution_count": null,
   "metadata": {},
   "outputs": [],
   "source": [
    "# Widgets for interactive plots\n",
    "sec_slider = widgets.FloatSlider(value=50, min=35, max=80, step=0.5, description='SEC')\n",
    "regeneration_slider = widgets.FloatSlider(value=30, min=10, max=60, step=1, description='Regeneration %')\n",
    "headway_slider = widgets.FloatSlider(value=4, min=1, max=15, step=0.1, description='Headway (min)')\n",
    "\n",
    "# Output widget for plots\n",
    "out1 = Output()\n",
    "\n",
    "# Interactive display\n",
    "ui = VBox([sec_slider, regeneration_slider, headway_slider])\n",
    "interactive_plot = interactive_output(update, {'sec': sec_slider, 'regeneration': regeneration_slider, 'headway': headway_slider})"
   ]
  },
  {
   "cell_type": "markdown",
   "metadata": {},
   "source": [
    "### Show interactive plot"
   ]
  },
  {
   "cell_type": "code",
   "execution_count": null,
   "metadata": {},
   "outputs": [],
   "source": [
    "display(VBox([ui, out1, interactive_plot]))"
   ]
  },
  {
   "cell_type": "code",
   "execution_count": null,
   "metadata": {},
   "outputs": [],
   "source": []
  }
 ],
 "metadata": {
  "kernelspec": {
   "display_name": "Python 3 (ipykernel)",
   "language": "python",
   "name": "python3"
  },
  "language_info": {
   "codemirror_mode": {
    "name": "ipython",
    "version": 3
   },
   "file_extension": ".py",
   "mimetype": "text/x-python",
   "name": "python",
   "nbconvert_exporter": "python",
   "pygments_lexer": "ipython3",
   "version": "3.11.4"
  }
 },
 "nbformat": 4,
 "nbformat_minor": 4
}
