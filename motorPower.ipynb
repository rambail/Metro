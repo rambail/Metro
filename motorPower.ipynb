{
  "metadata": {
    "kernelspec": {
      "name": "python",
      "display_name": "Python (Pyodide)",
      "language": "python"
    },
    "language_info": {
      "codemirror_mode": {
        "name": "python",
        "version": 3
      },
      "file_extension": ".py",
      "mimetype": "text/x-python",
      "name": "python",
      "nbconvert_exporter": "python",
      "pygments_lexer": "ipython3",
      "version": "3.8"
    },
    "anaconda-cloud": {}
  },
  "nbformat_minor": 4,
  "nbformat": 4,
  "cells": [
    {
      "cell_type": "code",
      "source": "try: # Install microgrids package in JupyterLite (if run in JupyterLite)\n    import piplite\n    await piplite.install([ 'ipywidgets', ])\nexcept ImportError:\n    pass",
      "metadata": {
        "trusted": true
      },
      "outputs": [],
      "execution_count": 1
    },
    {
      "cell_type": "code",
      "source": "#from ipywidgets import interact, interactive, IntSlider, widgets",
      "metadata": {
        "trusted": true
      },
      "outputs": [],
      "execution_count": 2
    },
    {
      "cell_type": "markdown",
      "source": "## Acceleration Speed Limit Effect",
      "metadata": {}
    },
    {
      "cell_type": "markdown",
      "source": "### Motor Rating vis-a-vis Speed limit for Acceleration",
      "metadata": {}
    },
    {
      "cell_type": "code",
      "source": "import matplotlib.pyplot as plt\nimport numpy as np\nimport ipywidgets as widgets\nfrom IPython.display import display\nfrom ipywidgets import HBox, VBox, interactive_output, Output\n\nweightTrain = 200 # Weight of Train in Tons\ncoeffInertia = 0.1 # Coeffecient of Inertia in %\nresistStart = 49 # Starting resistance in N/Ton\nmotorsNos = 8 # Number of motorised axles\naccler = 1.0 # Acceleration value in m/s2\n#accSpdLmt = 30 # Acceleration upto speed in kmph\n\n\n\n# Function to create the Tractive Effort plot\ndef plot1(accSpdLmt):\n    x = np.linspace(0, 80, num=100)\n    \n    teStart = weightTrain * resistStart /1000 # Starting Effort in kN\n    teRolling = (weightTrain + weightTrain * coeffInertia) * accler # Moving Effort\n    teTotal = teStart + teRolling # Total Effort\n    teMotor = teTotal / motorsNos # Effort per Motor\n    powerMotor = teMotor * accSpdLmt * 1000 / 3600 # Motor Rating\n\n    #print(f'Starting Effort:{teStart} kN, Moving Effort:{teRolling}kN')\n    #print(f'Motor TE:{teMotor}kN, Motor Rating: {powerMotor}')\n\n    te = []\n    for i in x:\n        if i < accSpdLmt:\n            te.append(teMotor)\n        else:\n            te.append(powerMotor / i * 3600 /1000)\n    \n    fig, ax = plt.subplots(figsize=(5, 3))  # Set figure size\n    ax.plot(x,te)\n    ax.set_title(f'Tractive effort is {teMotor}kN at {accSpdLmt}kmph')\n    return fig\n\n# Function to create the bar chat for motor power rating\ndef plot2(accSpdLmt):\n    teStart = weightTrain * resistStart /1000 # Starting Effort in kN\n    teRolling = (weightTrain + weightTrain * coeffInertia) * accler # Moving Effort\n    teTotal = teStart + teRolling # Total Effort\n    teMotor = teTotal / motorsNos # Effort per Motor\n    powerMotor = teMotor * accSpdLmt * 1000 / 3600 # Motor Rating\n    \n    fig, ax = plt.subplots(figsize=(5, 3))  # Set figure size\n    ax.bar(range(1), powerMotor, width=0.5)\n    ax.set_title(f'Motor Power needed is {int(powerMotor)}kW')\n    ax.set_ylim(150, 500)\n    ax.set_xlim(-5, 5)\n    return fig\n\n# Function to update plots\ndef update(accSpdLmt):\n    out1.clear_output(wait=True)\n    out2.clear_output(wait=True)\n    \n    with out1:\n        fig1 = plot1(accSpdLmt)\n        plt.show(fig1)\n    \n    with out2:\n        fig2 = plot2(accSpdLmt)\n        plt.show(fig2)\n\n# Widgets for interactive plots\naccSpdLmt_slider = widgets.FloatSlider(value=30, min=10, max=80, step=0.5, description='Acceleration Limit')\n#b_slider = widgets.FloatSlider(value=1, min=0.1, max=5, step=0.01, description='Frequency B')\n\n# Outputs for plots\nout1 = Output()\nout2 = Output()\n\n# Interactive display\nui = HBox([accSpdLmt_slider])\nout = VBox([HBox([out1, out2])])\n\ninteractive_plot = interactive_output(update, {'accSpdLmt': accSpdLmt_slider, })\n\ndisplay(VBox([ui, out, interactive_plot]))\n",
      "metadata": {
        "trusted": true
      },
      "outputs": [
        {
          "output_type": "display_data",
          "data": {
            "text/plain": "VBox(children=(HBox(children=(FloatSlider(value=30.0, description='Acceleration Limit', max=80.0, min=10.0, st…",
            "application/vnd.jupyter.widget-view+json": {
              "version_major": 2,
              "version_minor": 0,
              "model_id": "30aec31c34d74a24815cde40ec2bc47f"
            }
          },
          "metadata": {}
        }
      ],
      "execution_count": 8
    },
    {
      "cell_type": "code",
      "source": "",
      "metadata": {
        "trusted": true
      },
      "outputs": [],
      "execution_count": null
    },
    {
      "cell_type": "code",
      "source": "",
      "metadata": {
        "trusted": true
      },
      "outputs": [],
      "execution_count": null
    },
    {
      "cell_type": "code",
      "source": "",
      "metadata": {
        "trusted": true
      },
      "outputs": [],
      "execution_count": null
    }
  ]
}