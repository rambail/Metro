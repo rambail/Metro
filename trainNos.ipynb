{
  "metadata": {
    "kernelspec": {
      "name": "python",
      "display_name": "Python (Pyodide)",
      "language": "python"
    },
    "language_info": {
      "codemirror_mode": {
        "name": "python",
        "version": 3
      },
      "file_extension": ".py",
      "mimetype": "text/x-python",
      "name": "python",
      "nbconvert_exporter": "python",
      "pygments_lexer": "ipython3",
      "version": "3.8"
    }
  },
  "nbformat_minor": 4,
  "nbformat": 4,
  "cells": [
    {
      "cell_type": "code",
      "source": "try: # Install microgrids package in JupyterLite (if run in JupyterLite)\n    import piplite\n    await piplite.install([ 'ipywidgets', ])\nexcept ImportError:\n    pass",
      "metadata": {
        "trusted": true
      },
      "outputs": [],
      "execution_count": 1
    },
    {
      "cell_type": "code",
      "source": "#from ipywidgets import interact, interactive, IntSlider, widgets",
      "metadata": {
        "trusted": true
      },
      "outputs": [],
      "execution_count": null
    },
    {
      "cell_type": "code",
      "source": "import matplotlib.pyplot as plt\nimport numpy as np\nimport ipywidgets as widgets\nfrom IPython.display import display\nfrom ipywidgets import VBox, interactive_output, Output\n\n# Constants\ndistance = 30.8  # Route Kilometer\nreverseTime = 3  # Reversal time in minutes\n\ndef calculate_metrics(avgSpeed, carryCap3, phpdt):\n    \"\"\"\n    Calculate round trip time, headway, and number of trains needed.\n    \"\"\"\n    # Round Trip Time\n    rtt = (distance / avgSpeed) * 2 + reverseTime * 2 / 60\n\n    # Train Frequency required for clearing phpdt for Headway\n    tfh = phpdt / carryCap3\n    headway = 60 / tfh * 60\n\n    # Number of trains needed for continuous operation\n    trainNos = rtt * 60 / (headway / 60)\n    \n    return rtt, headway, trainNos\n\ndef plot1(avgSpeed, carryCap3, phpdt):\n    \"\"\"\n    Generate the plot for the number of trains needed.\n    \"\"\"\n    rtt, headway, trainNos = calculate_metrics(avgSpeed, carryCap3, phpdt)\n\n    print(f'Round Trip Time: {rtt:.2f} hrs, Headway: {int(headway)} minutes, Number of Trains: {int(trainNos)}')\n\n    fig, ax = plt.subplots(figsize=(5, 3))  # Set figure size\n    ax.bar([0], [trainNos], width=0.5)\n    ax.set_title(f'Number of Trains needed is {int(trainNos)}')\n    ax.set_ylim(5, 50)\n    ax.set_xlim(-1, 1)\n    ax.set_xticks([])\n    ax.set_ylabel('Number of Trains')\n    return fig\n\ndef update(avgSpeed, carryCap3, phpdt):\n    \"\"\"\n    Update the output plot based on the slider values.\n    \"\"\"\n    out1.clear_output(wait=True)\n    with out1:\n        fig1 = plot1(avgSpeed, carryCap3, phpdt)\n        plt.show(fig1)\n\n# Widgets for interactive plots\navgSpeed_slider = widgets.FloatSlider(value=35, min=30, max=45, step=0.5, description='Avg Speed (km/h)')\ncarryCap3_slider = widgets.FloatSlider(value=750, min=700, max=920, step=10, description='Capacity (3 cars)')\nphpdt_slider = widgets.FloatSlider(value=15000, min=9000, max=30000, step=100, description='PHPDT')\n\n# Output widget for plots\nout1 = Output()\n\n# Interactive display\nui = VBox([avgSpeed_slider, carryCap3_slider, phpdt_slider])\ninteractive_plot = interactive_output(update, {'avgSpeed': avgSpeed_slider, 'carryCap3': carryCap3_slider, 'phpdt': phpdt_slider})\n\ndisplay(VBox([ui, out1, interactive_plot]))\n",
      "metadata": {
        "trusted": true
      },
      "outputs": [
        {
          "output_type": "display_data",
          "data": {
            "text/plain": "VBox(children=(VBox(children=(FloatSlider(value=35.0, description='Avg Speed (km/h)', max=45.0, min=30.0, step…",
            "application/vnd.jupyter.widget-view+json": {
              "version_major": 2,
              "version_minor": 0,
              "model_id": "5f46715fdef24c64b2cc6b04583493c5"
            }
          },
          "metadata": {}
        }
      ],
      "execution_count": 13
    },
    {
      "cell_type": "code",
      "source": "import matplotlib.pyplot as plt\nimport numpy as np\nimport ipywidgets as widgets\nfrom IPython.display import display\nfrom ipywidgets import VBox, interactive_output, Output\n\n# Constants\ndistance = 30.8  # Route Kilometer\nreverseTime = 3  # Reversal time in minutes\n\ndef calculate_metrics(avgSpeed, carryCap3, phpdt):\n    \"\"\"\n    Calculate round trip time, headway, and number of trains needed.\n    \"\"\"\n    # Round Trip Time\n    rtt = (distance / avgSpeed) * 2 + reverseTime * 2 / 60\n\n    # Train Frequency required for clearing phpdt for Headway\n    tfh = phpdt / carryCap3\n    headway = 60 / tfh\n\n    # Number of trains needed for continuous operation\n    trainNos = rtt * 60 / headway\n    \n    return rtt, headway, trainNos\n\ndef plot_metrics(avgSpeed, carryCap3, phpdt):\n    \"\"\"\n    Generate the plot for the number of trains needed and headway.\n    \"\"\"\n    rtt, headway, trainNos = calculate_metrics(avgSpeed, carryCap3, phpdt)\n\n    print(f'Round Trip Time: {rtt:.2f} hrs, Headway: {headway:.2f} minutes, Number of Trains: {trainNos:.2f}')\n\n    fig, ax = plt.subplots(figsize=(7, 5))  # Set figure size\n    metrics = ['Number of Trains', 'Headway (min)']\n    values = [trainNos, headway]\n    \n    ax.bar(metrics, values, width=0.5)\n    ax.set_title('Operational Metrics')\n    ax.set_ylim(0, max(values) + 10)\n    ax.set_ylabel('Values')\n\n    for i, v in enumerate(values):\n        ax.text(i, v + 1, f\"{v:.2f}\", ha='center', va='bottom')\n\n    return fig\n\ndef update(avgSpeed, carryCap3, phpdt):\n    \"\"\"\n    Update the output plot based on the slider values.\n    \"\"\"\n    out1.clear_output(wait=True)\n    with out1:\n        fig1 = plot_metrics(avgSpeed, carryCap3, phpdt)\n        plt.show(fig1)\n\n# Widgets for interactive plots\navgSpeed_slider = widgets.FloatSlider(value=35, min=30, max=45, step=0.5, description='Avg Speed (km/h)')\ncarryCap3_slider = widgets.FloatSlider(value=750, min=700, max=920, step=10, description='Capacity (3 cars)')\nphpdt_slider = widgets.FloatSlider(value=15000, min=9000, max=30000, step=100, description='PHPDT')\n\n# Output widget for plots\nout1 = Output()\n\n# Interactive display\nui = VBox([avgSpeed_slider, carryCap3_slider, phpdt_slider])\ninteractive_plot = interactive_output(update, {'avgSpeed': avgSpeed_slider, 'carryCap3': carryCap3_slider, 'phpdt': phpdt_slider})\n\ndisplay(VBox([ui, out1, interactive_plot]))\n",
      "metadata": {
        "trusted": true
      },
      "outputs": [
        {
          "output_type": "display_data",
          "data": {
            "text/plain": "VBox(children=(VBox(children=(FloatSlider(value=35.0, description='Avg Speed (km/h)', max=45.0, min=30.0, step…",
            "application/vnd.jupyter.widget-view+json": {
              "version_major": 2,
              "version_minor": 0,
              "model_id": "9cef56e6c16d4e6b9c7cef51a40a18b4"
            }
          },
          "metadata": {}
        }
      ],
      "execution_count": 14
    },
    {
      "cell_type": "code",
      "source": "",
      "metadata": {
        "trusted": true
      },
      "outputs": [],
      "execution_count": null
    }
  ]
}