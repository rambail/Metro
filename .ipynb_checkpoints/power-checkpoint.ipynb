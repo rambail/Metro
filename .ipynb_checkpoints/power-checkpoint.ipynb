{
  "metadata": {
    "kernelspec": {
      "name": "python",
      "display_name": "Python (Pyodide)",
      "language": "python"
    },
    "language_info": {
      "codemirror_mode": {
        "name": "python",
        "version": 3
      },
      "file_extension": ".py",
      "mimetype": "text/x-python",
      "name": "python",
      "nbconvert_exporter": "python",
      "pygments_lexer": "ipython3",
      "version": "3.8"
    }
  },
  "nbformat_minor": 4,
  "nbformat": 4,
  "cells": [
    {
      "cell_type": "markdown",
      "source": "### Install packages",
      "metadata": {}
    },
    {
      "cell_type": "code",
      "source": "try: # Install microgrids package in JupyterLite (if run in JupyterLite)\n    import piplite\n    await piplite.install([ 'ipywidgets', ])\nexcept ImportError:\n    pass",
      "metadata": {
        "trusted": true
      },
      "outputs": [],
      "execution_count": null
    },
    {
      "cell_type": "markdown",
      "source": "### Import packages",
      "metadata": {}
    },
    {
      "cell_type": "code",
      "source": "import matplotlib.pyplot as plt\nimport numpy as np\nimport ipywidgets as widgets\nfrom IPython.display import display\nfrom ipywidgets import VBox, interactive_output, Output",
      "metadata": {
        "trusted": true
      },
      "outputs": [],
      "execution_count": null
    },
    {
      "cell_type": "markdown",
      "source": "### Define fixed variables",
      "metadata": {}
    },
    {
      "cell_type": "code",
      "source": "# Constants\ndistance = 30.8  # Route Kilometer\ntrainWeight = 200  # Weight of Train in Tons\ndepots = 1 # number of additional depots or percentage of depot to consider\ndepotTrainPower = 1 # Power used by Trains in Depot\nelevatedStations = 16 # number of elevated stations\natGradeStations = 4 # number of stations at grade\nugStations = 3 # number of underground stations\ntractionPF = 0.95 # Traction Power Factor\ntractionLosses = 5 # Traction Power losses in percentage\nauxiliaryPF = 0.95 # Auxillary Power Factor\nauxiliaryLosses = 5 # Auxillary Power losses in percentage\ndailyHours = 20 # Daily Operational Hours\ndiversityFactor = 0.5 # Diversity Factor for auxiliary power",
      "metadata": {
        "trusted": true
      },
      "outputs": [],
      "execution_count": null
    },
    {
      "cell_type": "markdown",
      "source": "### Function for calculating output based on passed parameteric values",
      "metadata": {}
    },
    {
      "cell_type": "code",
      "source": "def calculate_metrics(sec, regeneration, headway):\n    \"\"\"\n    Calculate required power wattage, units, and maximum demand.\n    \"\"\"\n    # Traction Power Requirement using SEC KW/1000 km for finding traction power\n    trainPerHour = 60 / headway * 2 # Trains per hour in both direction\n    peakTractionPower = distance * trainWeight * sec * trainPerHour / 1000 /1000 # Power in MW\n    regTractionPower = peakTractionPower * (1 - regeneration/100) + depotTrainPower # Account Regeneration\n    netTractionPower = regTractionPower / (1 - tractionLosses / 100) / tractionPF # include losses in MVA\n\n    # Auxiliary Power requirements of Station and Depot buildings\n    stationLoad = (elevatedStations + atGradeStations) * 300 + ugStations * 2500 # Auxiliary power for stations\n    depotLoad = depots * 500 # Auxiliary power for Depot\n    totalAuxiliaryPower = (stationLoad + depotLoad) / 1000 # Total of station and Depot in MW\n    netAuxiliaryPower = (totalAuxiliaryPower / (1 - auxiliaryLosses / 100) / auxiliaryPF) # include losses in MVA\n    \n    watt = netTractionPower + netAuxiliaryPower\n\n    tractionUnits = netTractionPower * dailyHours * 365 / 1000 # Yearly units consumption for Traction\n    auxiliaryUnits = netAuxiliaryPower * diversityFactor * dailyHours * 365 / 1000 # Yearly units consumption for Auxiliary\n\n    unit = tractionUnits + auxiliaryUnits\n    \n    #print(f'Traction: {netTractionPower:.2f} MW, Auxiliary: {netAuxiliaryPower:.2f} MW')\n    #print(f'Traction: {tractionUnits:.2f} Mil, Auxiliary: {auxiliaryUnits:.2f} Mil')\n    \n    demand = (netTractionPower / 0.95 + netAuxiliaryPower / 0.95) / 0.95 # Assume 5% transimission losses\n    \n    return watt, unit, demand\n",
      "metadata": {
        "trusted": true
      },
      "outputs": [],
      "execution_count": null
    },
    {
      "cell_type": "markdown",
      "source": "### Plot the output",
      "metadata": {}
    },
    {
      "cell_type": "code",
      "source": "\ndef plot_metrics(sec, regeneration, headway):\n    \"\"\"\n    Generate the plot for the number Power Consumption.\n    \"\"\"\n    watt, unit, demand = calculate_metrics(sec, regeneration, headway)\n\n    print(f'Total Power: {watt:.2f} MW, Units: {unit:.2f} Million, Maxm Demand: {int(demand)}')\n\n    fig, ax = plt.subplots(figsize=(7, 5))  # Set figure size\n    metrics = ['Total Power Required', 'Units Consumed', 'Maximum Demand']\n    values = [watt, unit, demand]\n    \n    ax.bar(metrics, values, width=0.5)\n    ax.set_title('Power Consumption Metrics')\n    #ax.set_ylim(0, 55)\n    ax.set_ylabel('Values')\n\n    for i, v in enumerate(values):\n        ax.text(i, v + 1, f\"{v:.2f}\", ha='center', va='bottom')\n\n    return fig\n\n",
      "metadata": {
        "trusted": true
      },
      "outputs": [],
      "execution_count": null
    },
    {
      "cell_type": "markdown",
      "source": "### Update the paramateric value interactively to observe senstivity",
      "metadata": {}
    },
    {
      "cell_type": "code",
      "source": "def update(sec, regeneration, headway):\n    \"\"\"\n    Update the output plot based on the slider values.\n    \"\"\"\n    out1.clear_output(wait=True)\n    with out1:\n        fig1 = plot_metrics(sec, regeneration, headway)\n        plt.show(fig1)\n\n",
      "metadata": {
        "trusted": true
      },
      "outputs": [],
      "execution_count": null
    },
    {
      "cell_type": "markdown",
      "source": "### Widget and others",
      "metadata": {}
    },
    {
      "cell_type": "code",
      "source": "# Widgets for interactive plots\nsec_slider = widgets.FloatSlider(value=50, min=35, max=80, step=0.5, description='SEC')\nregeneration_slider = widgets.FloatSlider(value=30, min=10, max=60, step=1, description='Regeneration %')\nheadway_slider = widgets.FloatSlider(value=4, min=1, max=15, step=0.1, description='Headway (min)')\n\n# Output widget for plots\nout1 = Output()\n\n# Interactive display\nui = VBox([sec_slider, regeneration_slider, headway_slider])\ninteractive_plot = interactive_output(update, {'sec': sec_slider, 'regeneration': regeneration_slider, 'headway': headway_slider})",
      "metadata": {
        "trusted": true
      },
      "outputs": [],
      "execution_count": null
    },
    {
      "cell_type": "markdown",
      "source": "### Show interactive plot",
      "metadata": {}
    },
    {
      "cell_type": "code",
      "source": "display(VBox([ui, out1, interactive_plot]))",
      "metadata": {
        "trusted": true
      },
      "outputs": [],
      "execution_count": null
    },
    {
      "cell_type": "code",
      "source": "",
      "metadata": {
        "trusted": true
      },
      "outputs": [],
      "execution_count": null
    }
  ]
}